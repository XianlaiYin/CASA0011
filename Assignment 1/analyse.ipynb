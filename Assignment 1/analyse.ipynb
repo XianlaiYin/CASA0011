{
 "cells": [
  {
   "cell_type": "code",
   "execution_count": 1,
   "metadata": {},
   "outputs": [],
   "source": [
    "import pandas as pd"
   ]
  },
  {
   "cell_type": "code",
   "execution_count": 2,
   "metadata": {},
   "outputs": [],
   "source": [
    "sugarscape1 = pd.read_csv('https://raw.githubusercontent.com/XianlaiYin/CASA0011/main/Assignment%201/data_clean/sugarscape1.csv')\n",
    "sugarscape2 = pd.read_csv('https://raw.githubusercontent.com/XianlaiYin/CASA0011/main/Assignment%201/data_clean/sugarscape2.csv')\n",
    "sugarscape3 = pd.read_csv('https://raw.githubusercontent.com/XianlaiYin/CASA0011/main/Assignment%201/data_clean/sugarscape3.csv')"
   ]
  },
  {
   "cell_type": "code",
   "execution_count": 5,
   "metadata": {},
   "outputs": [
    {
     "name": "stderr",
     "output_type": "stream",
     "text": [
      "C:\\Users\\xianl\\AppData\\Local\\Temp\\ipykernel_36428\\779110974.py:1: FutureWarning: Indexing with multiple keys (implicitly converted to a tuple of keys) will be deprecated, use a list instead.\n",
      "  grouped_sugarscape1 = sugarscape1.groupby('initial-population')['population', 'time', 'gini-mean', 'gini-variance'].mean()\n",
      "C:\\Users\\xianl\\AppData\\Local\\Temp\\ipykernel_36428\\779110974.py:2: FutureWarning: Indexing with multiple keys (implicitly converted to a tuple of keys) will be deprecated, use a list instead.\n",
      "  grouped_sugarscape2 = sugarscape2.groupby('initial-population')['population', 'time', 'gini-mean', 'gini-variance'].mean()\n",
      "C:\\Users\\xianl\\AppData\\Local\\Temp\\ipykernel_36428\\779110974.py:3: FutureWarning: Indexing with multiple keys (implicitly converted to a tuple of keys) will be deprecated, use a list instead.\n",
      "  grouped_sugarscape3 = sugarscape3.groupby('initial-population')['population', 'time', 'gini-mean', 'gini-variance'].mean()\n"
     ]
    }
   ],
   "source": [
    "grouped_sugarscape1 = sugarscape1.groupby('initial-population')['population', 'time', 'gini-mean', 'gini-variance'].mean()\n",
    "grouped_sugarscape2 = sugarscape2.groupby('initial-population')['population', 'time', 'gini-mean', 'gini-variance'].mean()\n",
    "grouped_sugarscape3 = sugarscape3.groupby('initial-population')['population', 'time', 'gini-mean', 'gini-variance'].mean()"
   ]
  },
  {
   "cell_type": "code",
   "execution_count": 6,
   "metadata": {},
   "outputs": [],
   "source": [
    "grouped_sugarscape1.to_csv('grouped_sugarscape1.csv', index = True)\n",
    "grouped_sugarscape2.to_csv('grouped_sugarscape2.csv', index = True)\n",
    "grouped_sugarscape3.to_csv('grouped_sugarscape3.csv', index = True)"
   ]
  }
 ],
 "metadata": {
  "kernelspec": {
   "display_name": "Python 3",
   "language": "python",
   "name": "python3"
  },
  "language_info": {
   "codemirror_mode": {
    "name": "ipython",
    "version": 3
   },
   "file_extension": ".py",
   "mimetype": "text/x-python",
   "name": "python",
   "nbconvert_exporter": "python",
   "pygments_lexer": "ipython3",
   "version": "3.10.7"
  },
  "orig_nbformat": 4,
  "vscode": {
   "interpreter": {
    "hash": "cadbf640eb08784e874de45717cc26a21a5e76999957758f273d7efd24bb6881"
   }
  }
 },
 "nbformat": 4,
 "nbformat_minor": 2
}
